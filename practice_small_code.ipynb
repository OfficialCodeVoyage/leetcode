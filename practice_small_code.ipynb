{
 "cells": [
  {
   "cell_type": "code",
   "id": "initial_id",
   "metadata": {
    "collapsed": true,
    "ExecuteTime": {
     "end_time": "2024-07-31T22:04:46.432484Z",
     "start_time": "2024-07-31T22:04:46.423908Z"
    }
   },
   "source": [
    "for i in range(1,4):\n",
    "    print(i)"
   ],
   "outputs": [
    {
     "name": "stdout",
     "output_type": "stream",
     "text": [
      "1\n",
      "2\n",
      "3\n"
     ]
    }
   ],
   "execution_count": 2
  },
  {
   "metadata": {
    "ExecuteTime": {
     "end_time": "2024-08-07T03:39:46.132609Z",
     "start_time": "2024-08-07T03:39:46.128540Z"
    }
   },
   "cell_type": "code",
   "source": [
    "s = \"bb\"\n",
    "list1 = [i for i in s]\n",
    "print(len(list1) -1 ) \n",
    "print(len(list1))"
   ],
   "id": "74d716e94aa6f339",
   "outputs": [
    {
     "name": "stdout",
     "output_type": "stream",
     "text": [
      "1\n",
      "2\n"
     ]
    }
   ],
   "execution_count": 6
  },
  {
   "metadata": {
    "ExecuteTime": {
     "end_time": "2024-08-07T16:57:33.442540Z",
     "start_time": "2024-08-07T16:57:33.438185Z"
    }
   },
   "cell_type": "code",
   "source": [
    "sum = 0\n",
    "sum -=100\n",
    "print(sum)"
   ],
   "id": "282cf3c329427e88",
   "outputs": [
    {
     "name": "stdout",
     "output_type": "stream",
     "text": [
      "-100\n"
     ]
    }
   ],
   "execution_count": 7
  },
  {
   "metadata": {
    "ExecuteTime": {
     "end_time": "2024-08-07T17:27:28.052977Z",
     "start_time": "2024-08-07T17:27:28.048411Z"
    }
   },
   "cell_type": "code",
   "source": [
    "image = [[1,1,0],[1,0,1],[0,0,0]]\n",
    "print(len(image[1]))"
   ],
   "id": "383ad78972533c49",
   "outputs": [
    {
     "name": "stdout",
     "output_type": "stream",
     "text": [
      "3\n"
     ]
    }
   ],
   "execution_count": 10
  },
  {
   "metadata": {},
   "cell_type": "code",
   "outputs": [],
   "execution_count": null,
   "source": "",
   "id": "3afd94d8f063bc04"
  }
 ],
 "metadata": {
  "kernelspec": {
   "display_name": "Python 3",
   "language": "python",
   "name": "python3"
  },
  "language_info": {
   "codemirror_mode": {
    "name": "ipython",
    "version": 2
   },
   "file_extension": ".py",
   "mimetype": "text/x-python",
   "name": "python",
   "nbconvert_exporter": "python",
   "pygments_lexer": "ipython2",
   "version": "2.7.6"
  }
 },
 "nbformat": 4,
 "nbformat_minor": 5
}
