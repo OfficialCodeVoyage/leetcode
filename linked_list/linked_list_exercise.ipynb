{
 "cells": [
  {
   "metadata": {},
   "cell_type": "markdown",
   "source": "Sinlgy Linked List",
   "id": "c0123aea81612f14"
  },
  {
   "metadata": {},
   "cell_type": "code",
   "outputs": [],
   "execution_count": null,
   "source": [
    "class Node:\n",
    "    def __init__(self, data):\n",
    "        self.Data = data\n",
    "        self.Next = None"
   ],
   "id": "bc64ebb2d3518d77"
  },
  {
   "metadata": {},
   "cell_type": "code",
   "outputs": [],
   "execution_count": null,
   "source": [
    "class linkedList():\n",
    "    def __int__(self, data):\n",
    "        self.head = None\n",
    "    \n",
    "    \n",
    "    "
   ],
   "id": "acdd448697aa318a"
  },
  {
   "metadata": {},
   "cell_type": "code",
   "outputs": [],
   "execution_count": null,
   "source": [
    "llist = linkedList()\n",
    "llist()"
   ],
   "id": "ca8cb218d2f9d630"
  }
 ],
 "metadata": {
  "kernelspec": {
   "display_name": "Python 3",
   "language": "python",
   "name": "python3"
  },
  "language_info": {
   "codemirror_mode": {
    "name": "ipython",
    "version": 2
   },
   "file_extension": ".py",
   "mimetype": "text/x-python",
   "name": "python",
   "nbconvert_exporter": "python",
   "pygments_lexer": "ipython2",
   "version": "2.7.6"
  }
 },
 "nbformat": 4,
 "nbformat_minor": 5
}
